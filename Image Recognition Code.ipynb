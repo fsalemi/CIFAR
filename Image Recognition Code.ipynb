{
 "cells": [
  {
   "cell_type": "markdown",
   "metadata": {},
   "source": [
    "### Loading the packages"
   ]
  },
  {
   "cell_type": "code",
   "execution_count": 11,
   "metadata": {},
   "outputs": [],
   "source": [
    "import pandas as pd\n",
    "import numpy as np\n",
    "import matplotlib as mpl\n",
    "import matplotlib.pyplot as plt\n",
    "\n",
    "# scikit-learn functions\n",
    "from sklearn.metrics import accuracy_score\n",
    "from sklearn.model_selection import train_test_split\n",
    "from sklearn.preprocessing import StandardScaler\n",
    "from sklearn.model_selection import GridSearchCV\n",
    "from sklearn.neighbors import KNeighborsClassifier\n",
    "from sklearn.ensemble import RandomForestClassifier\n",
    "from sklearn.ensemble import GradientBoostingClassifier\n",
    "from sklearn.decomposition import PCA, NMF\n",
    "\n",
    "# TensorFlow / Keras functions\n",
    "from tensorflow import keras\n",
    "from tensorflow.keras import Sequential\n",
    "from tensorflow.keras.layers import Dense, Conv2D, Flatten, MaxPooling2D, Dropout\n",
    "from tensorflow.keras.callbacks import EarlyStopping\n",
    "from tensorflow.keras.datasets import cifar10"
   ]
  },
  {
   "cell_type": "markdown",
   "metadata": {},
   "source": [
    "### Loading the CIFAR-10 data"
   ]
  },
  {
   "cell_type": "code",
   "execution_count": 19,
   "metadata": {},
   "outputs": [
    {
     "name": "stdout",
     "output_type": "stream",
     "text": [
      "X shapes:  (50000, 32, 32, 3) (10000, 32, 32, 3)\n",
      "y shapes:  (50000, 1) (10000, 1)\n"
     ]
    }
   ],
   "source": [
    "(X_train, y_train), (X_test, y_test) = cifar10.load_data()\n",
    "\n",
    "print('X shapes: ', X_train.shape, X_test.shape)\n",
    "print('y shapes: ', y_train.shape, y_test.shape)"
   ]
  },
  {
   "cell_type": "markdown",
   "metadata": {},
   "source": [
    "### EDA and Preprocessing"
   ]
  },
  {
   "cell_type": "code",
   "execution_count": 20,
   "metadata": {},
   "outputs": [
    {
     "name": "stdout",
     "output_type": "stream",
     "text": [
      "X shapes:  (5000, 32, 32, 3) (5000, 32, 32, 3) (2000, 32, 32, 3)\n",
      "y shapes:  (5000, 1) (5000, 1) (2000, 1)\n"
     ]
    }
   ],
   "source": [
    "# labels: ['airplane', 'automobile', 'bird', 'cat', 'deer', 'dog', 'frog', 'horse', 'ship', 'truck']\n",
    "# Filter training and test sets to 2 images\n",
    "frog = 6\n",
    "ship = 8\n",
    "train_ind = np.where((y_train == frog) | (y_train == ship))[0]\n",
    "test_ind = np.where((y_test == frog) | (y_test == ship))[0]\n",
    "y_train = y_train[train_ind]\n",
    "X_train = X_train[train_ind]\n",
    "y_test = y_test[test_ind]\n",
    "X_test = X_test[test_ind]\n",
    "\n",
    "# Relabel frog as 0 and ship as 1 for binary classification\n",
    "y_train[y_train == frog] = 0\n",
    "y_train[y_train == ship] = 1\n",
    "y_test[y_test == frog] = 0\n",
    "y_test[y_test == ship] = 1\n",
    "\n",
    "# Create validation set\n",
    "X_train, X_valid, y_train, y_valid = train_test_split(X_train, y_train, test_size=.5, stratify=y_train, random_state=1)\n",
    "\n",
    "# Printing the shapes\n",
    "print('X shapes: ', X_train.shape, X_valid.shape, X_test.shape)\n",
    "print('y shapes: ', y_train.shape, y_valid.shape, y_test.shape)"
   ]
  },
  {
   "cell_type": "code",
   "execution_count": 36,
   "metadata": {},
   "outputs": [
    {
     "name": "stdout",
     "output_type": "stream",
     "text": [
      "X shapes:  (5000, 3072) (5000, 3072) (2000, 3072)\n",
      "y shapes:  (5000,) (5000, 1) (2000, 1)\n"
     ]
    }
   ],
   "source": [
    "# Reshaping the data\n",
    "X_train = X_train.reshape(X_train.shape[0], -1)\n",
    "X_valid = X_valid.reshape(X_valid.shape[0], -1)\n",
    "X_test = X_test.reshape(X_test.shape[0], -1)\n",
    "\n",
    "# reshaping the output parameter to 1-D array\n",
    "y_train = y_train.ravel()\n",
    "\n",
    "print('X shapes: ', X_train.shape, X_valid.shape, X_test.shape)\n",
    "print('y shapes: ', y_train.shape, y_valid.shape, y_test.shape)"
   ]
  },
  {
   "cell_type": "code",
   "execution_count": 37,
   "metadata": {},
   "outputs": [],
   "source": [
    "# Standardizing the data\n",
    "scaler = StandardScaler()\n",
    "scaler.fit(X_train)\n",
    "X_train = scaler.transform(X_train)\n",
    "X_valid = scaler.transform(X_valid)\n",
    "X_test = scaler.transform(X_test)"
   ]
  },
  {
   "cell_type": "code",
   "execution_count": 38,
   "metadata": {},
   "outputs": [
    {
     "name": "stdout",
     "output_type": "stream",
     "text": [
      "X shapes:  (5000, 100) (5000, 100) (2000, 100)\n"
     ]
    }
   ],
   "source": [
    "# Applying Demention Reduction PCA\n",
    "pca = PCA(n_components=100, random_state=1)\n",
    "pca.fit(X_train)\n",
    "X_train = pca.transform(X_train)\n",
    "X_test = pca.transform(X_test)\n",
    "X_valid = pca.transform(X_valid)\n",
    "print('X shapes: ', X_train.shape, X_valid.shape, X_test.shape)"
   ]
  },
  {
   "cell_type": "code",
   "execution_count": 17,
   "metadata": {},
   "outputs": [
    {
     "data": {
      "image/png": "[encoded data removed]",
      "text/plain": [
       "<Figure size 432x288 with 1 Axes>"
      ]
     },
     "metadata": {
      "needs_background": "light"
     },
     "output_type": "display_data"
    }
   ],
   "source": [
    "# Scree plot of the principal components (explained variance vs. number of components)\n",
    "plt.plot(pca.explained_variance_ratio_)\n",
    "plt.xlabel('number of components')\n",
    "plt.ylabel('variance')\n",
    "plt.show()"
   ]
  },
  {
   "cell_type": "code",
   "execution_count": 18,
   "metadata": {},
   "outputs": [
    {
     "data": {
      "image/png": "[encoded data removed]",
      "text/plain": [
       "<Figure size 432x288 with 1 Axes>"
      ]
     },
     "metadata": {
      "needs_background": "light"
     },
     "output_type": "display_data"
    }
   ],
   "source": [
    "# Scree plot of cumulative explained variance vs. number of components\n",
    "plt.plot(np.cumsum(pca.explained_variance_ratio_))\n",
    "plt.xlabel('number of components')\n",
    "plt.ylabel('cumulative explained variance')\n",
    "plt.show()"
   ]
  },
  {
   "cell_type": "markdown",
   "metadata": {},
   "source": [
    "According to the above graphs with 100 components we will have %90 of variation explained. So will use 100 components for the rest of this project."
   ]
  },
  {
   "cell_type": "markdown",
   "metadata": {},
   "source": [
    "### Initial KNN"
   ]
  },
  {
   "cell_type": "code",
   "execution_count": 39,
   "metadata": {},
   "outputs": [
    {
     "data": {
      "text/plain": [
       "KNeighborsClassifier(algorithm='auto', leaf_size=30, metric='minkowski',\n",
       "                     metric_params=None, n_jobs=None, n_neighbors=5, p=2,\n",
       "                     weights='uniform')"
      ]
     },
     "execution_count": 39,
     "metadata": {},
     "output_type": "execute_result"
    }
   ],
   "source": [
    "knn = KNeighborsClassifier()\n",
    "knn.fit(X_train, y_train)"
   ]
  },
  {
   "cell_type": "code",
   "execution_count": 40,
   "metadata": {},
   "outputs": [
    {
     "name": "stdout",
     "output_type": "stream",
     "text": [
      "KNN accuracy: 0.911\n"
     ]
    }
   ],
   "source": [
    "preds_knn = knn.predict(X_test)\n",
    "print('KNN accuracy: {:.3f}'.format(accuracy_score(y_test, preds_knn)))"
   ]
  },
  {
   "cell_type": "markdown",
   "metadata": {},
   "source": [
    "### Optimized KNN"
   ]
  },
  {
   "cell_type": "code",
   "execution_count": 9,
   "metadata": {},
   "outputs": [
    {
     "data": {
      "text/plain": [
       "GridSearchCV(cv=5, error_score='raise-deprecating',\n",
       "             estimator=KNeighborsClassifier(algorithm='auto', leaf_size=30,\n",
       "                                            metric='minkowski',\n",
       "                                            metric_params=None, n_jobs=None,\n",
       "                                            n_neighbors=5, p=2,\n",
       "                                            weights='uniform'),\n",
       "             iid='warn', n_jobs=None,\n",
       "             param_grid={'n_neighbors': array([2, 3, 4, 5, 6])},\n",
       "             pre_dispatch='2*n_jobs', refit=True, return_train_score=False,\n",
       "             scoring='accuracy', verbose=0)"
      ]
     },
     "execution_count": 9,
     "metadata": {},
     "output_type": "execute_result"
    }
   ],
   "source": [
    "knn = KNeighborsClassifier()\n",
    "ks = np.arange(2, 7)\n",
    "gs = GridSearchCV(knn, param_grid={'n_neighbors':ks}, scoring='accuracy', cv = 5)\n",
    "gs.fit(X_train, y_train)"
   ]
  },
  {
   "cell_type": "code",
   "execution_count": 10,
   "metadata": {
    "scrolled": true
   },
   "outputs": [
    {
     "data": {
      "text/plain": [
       "{'n_neighbors': 3}"
      ]
     },
     "execution_count": 10,
     "metadata": {},
     "output_type": "execute_result"
    }
   ],
   "source": [
    "gs.best_params_"
   ]
  },
  {
   "cell_type": "code",
   "execution_count": 11,
   "metadata": {},
   "outputs": [
    {
     "name": "stdout",
     "output_type": "stream",
     "text": [
      "KNN accuracy: 0.914\n"
     ]
    }
   ],
   "source": [
    "preds = gs.predict(X_test)\n",
    "print('KNN accuracy: {:.3f}'.format(accuracy_score(y_test, preds)))"
   ]
  },
  {
   "cell_type": "markdown",
   "metadata": {},
   "source": [
    "### Initial Random Forest"
   ]
  },
  {
   "cell_type": "code",
   "execution_count": 20,
   "metadata": {},
   "outputs": [
    {
     "data": {
      "text/plain": [
       "RandomForestClassifier(bootstrap=True, class_weight=None, criterion='gini',\n",
       "                       max_depth=None, max_features='auto', max_leaf_nodes=None,\n",
       "                       min_impurity_decrease=0.0, min_impurity_split=None,\n",
       "                       min_samples_leaf=1, min_samples_split=2,\n",
       "                       min_weight_fraction_leaf=0.0, n_estimators=100,\n",
       "                       n_jobs=None, oob_score=False, random_state=None,\n",
       "                       verbose=0, warm_start=False)"
      ]
     },
     "execution_count": 20,
     "metadata": {},
     "output_type": "execute_result"
    }
   ],
   "source": [
    "rf = RandomForestClassifier(n_estimators  = 100)\n",
    "rf.fit(X_train, y_train)"
   ]
  },
  {
   "cell_type": "code",
   "execution_count": 21,
   "metadata": {},
   "outputs": [
    {
     "name": "stdout",
     "output_type": "stream",
     "text": [
      "Random Forest accuracy: 0.922\n"
     ]
    }
   ],
   "source": [
    "preds = rf.predict(X_test)\n",
    "print('Random Forest accuracy: {:.3f}'.format(accuracy_score(y_test, preds)))"
   ]
  },
  {
   "cell_type": "markdown",
   "metadata": {},
   "source": [
    "### Optimized Random Forest"
   ]
  },
  {
   "cell_type": "code",
   "execution_count": 22,
   "metadata": {},
   "outputs": [
    {
     "data": {
      "text/plain": [
       "GridSearchCV(cv=5, error_score='raise-deprecating',\n",
       "             estimator=RandomForestClassifier(bootstrap=True, class_weight=None,\n",
       "                                              criterion='gini', max_depth=None,\n",
       "                                              max_features='auto',\n",
       "                                              max_leaf_nodes=None,\n",
       "                                              min_impurity_decrease=0.0,\n",
       "                                              min_impurity_split=None,\n",
       "                                              min_samples_leaf=1,\n",
       "                                              min_samples_split=2,\n",
       "                                              min_weight_fraction_leaf=0.0,\n",
       "                                              n_estimators='warn', n_jobs=None,\n",
       "                                              oob_score=False,\n",
       "                                              random_state=None, verbose=0,\n",
       "                                              warm_start=False),\n",
       "             iid='warn', n_jobs=None,\n",
       "             param_grid={'max_depth': [6, 7, 8],\n",
       "                         'n_estimators': [100, 200, 300]},\n",
       "             pre_dispatch='2*n_jobs', refit=True, return_train_score=False,\n",
       "             scoring='accuracy', verbose=0)"
      ]
     },
     "execution_count": 22,
     "metadata": {},
     "output_type": "execute_result"
    }
   ],
   "source": [
    "rf = RandomForestClassifier()\n",
    "trees = [100, 200, 300]\n",
    "depths = [6, 7, 8]\n",
    "gs = GridSearchCV(rf, param_grid={'n_estimators':trees, 'max_depth':depths},\n",
    "scoring='accuracy', cv = 5)\n",
    "gs.fit(X_train, y_train)"
   ]
  },
  {
   "cell_type": "code",
   "execution_count": 23,
   "metadata": {
    "scrolled": true
   },
   "outputs": [
    {
     "data": {
      "text/plain": [
       "{'max_depth': 8, 'n_estimators': 300}"
      ]
     },
     "execution_count": 23,
     "metadata": {},
     "output_type": "execute_result"
    }
   ],
   "source": [
    "gs.best_params_"
   ]
  },
  {
   "cell_type": "code",
   "execution_count": 16,
   "metadata": {},
   "outputs": [
    {
     "name": "stdout",
     "output_type": "stream",
     "text": [
      "Random Forest accuracy: 0.924\n"
     ]
    }
   ],
   "source": [
    "preds = gs.predict(X_test)\n",
    "print('Random Forest accuracy: {:.3f}'.format(accuracy_score(y_test, preds)))"
   ]
  },
  {
   "cell_type": "markdown",
   "metadata": {},
   "source": [
    "### Initial Gradient Boosted"
   ]
  },
  {
   "cell_type": "code",
   "execution_count": 17,
   "metadata": {},
   "outputs": [
    {
     "data": {
      "text/plain": [
       "GradientBoostingClassifier(criterion='friedman_mse', init=None,\n",
       "                           learning_rate=0.1, loss='deviance', max_depth=3,\n",
       "                           max_features=None, max_leaf_nodes=None,\n",
       "                           min_impurity_decrease=0.0, min_impurity_split=None,\n",
       "                           min_samples_leaf=1, min_samples_split=2,\n",
       "                           min_weight_fraction_leaf=0.0, n_estimators=100,\n",
       "                           n_iter_no_change=None, presort='auto',\n",
       "                           random_state=None, subsample=1.0, tol=0.0001,\n",
       "                           validation_fraction=0.1, verbose=0,\n",
       "                           warm_start=False)"
      ]
     },
     "execution_count": 17,
     "metadata": {},
     "output_type": "execute_result"
    }
   ],
   "source": [
    "gb = GradientBoostingClassifier()\n",
    "gb.fit(X_train, y_train)"
   ]
  },
  {
   "cell_type": "code",
   "execution_count": 18,
   "metadata": {},
   "outputs": [
    {
     "name": "stdout",
     "output_type": "stream",
     "text": [
      "Gradient Boosting accuracy: 0.928\n"
     ]
    }
   ],
   "source": [
    "preds = gb.predict(X_test)\n",
    "print('Gradient Boosting accuracy: {:.3f}'.format(accuracy_score(y_test, preds)))"
   ]
  },
  {
   "cell_type": "markdown",
   "metadata": {},
   "source": [
    "### Optimized Gradient Boosted"
   ]
  },
  {
   "cell_type": "code",
   "execution_count": 19,
   "metadata": {},
   "outputs": [
    {
     "data": {
      "text/plain": [
       "GridSearchCV(cv=5, error_score='raise-deprecating',\n",
       "             estimator=GradientBoostingClassifier(criterion='friedman_mse',\n",
       "                                                  init=None, learning_rate=0.1,\n",
       "                                                  loss='deviance', max_depth=3,\n",
       "                                                  max_features=None,\n",
       "                                                  max_leaf_nodes=None,\n",
       "                                                  min_impurity_decrease=0.0,\n",
       "                                                  min_impurity_split=None,\n",
       "                                                  min_samples_leaf=1,\n",
       "                                                  min_samples_split=2,\n",
       "                                                  min_weight_fraction_leaf=0.0,\n",
       "                                                  n_estimators=100,\n",
       "                                                  n_iter_no_change=None,\n",
       "                                                  presort='auto',\n",
       "                                                  random_state=None,\n",
       "                                                  subsample=1.0, tol=0.0001,\n",
       "                                                  validation_fraction=0.1,\n",
       "                                                  verbose=0, warm_start=False),\n",
       "             iid='warn', n_jobs=None,\n",
       "             param_grid={'learning_rate': [0.05, 0.1, 0.2],\n",
       "                         'n_estimators': [200, 300]},\n",
       "             pre_dispatch='2*n_jobs', refit=True, return_train_score=False,\n",
       "             scoring='accuracy', verbose=0)"
      ]
     },
     "execution_count": 19,
     "metadata": {},
     "output_type": "execute_result"
    }
   ],
   "source": [
    "gb = GradientBoostingClassifier()\n",
    "trees = [200, 300]\n",
    "learning = [.05, .1, .2]\n",
    "gs = GridSearchCV(gb, param_grid={'n_estimators':trees, 'learning_rate':learning},\n",
    "scoring='accuracy', cv = 5)\n",
    "gs.fit(X_train, y_train)"
   ]
  },
  {
   "cell_type": "code",
   "execution_count": 20,
   "metadata": {},
   "outputs": [
    {
     "data": {
      "text/plain": [
       "{'learning_rate': 0.1, 'n_estimators': 300}"
      ]
     },
     "execution_count": 20,
     "metadata": {},
     "output_type": "execute_result"
    }
   ],
   "source": [
    "gs.best_params_"
   ]
  },
  {
   "cell_type": "code",
   "execution_count": 21,
   "metadata": {},
   "outputs": [
    {
     "name": "stdout",
     "output_type": "stream",
     "text": [
      "Gradient Boosting accuracy: 0.933\n"
     ]
    }
   ],
   "source": [
    "preds = gs.predict(X_test)\n",
    "print('Gradient Boosting accuracy: {:.3f}'.format(accuracy_score(y_test, preds)))"
   ]
  },
  {
   "cell_type": "markdown",
   "metadata": {},
   "source": [
    "### Changing the shape of y_train for Neural Net"
   ]
  },
  {
   "cell_type": "code",
   "execution_count": 38,
   "metadata": {},
   "outputs": [],
   "source": [
    "y_train = y_train.reshape(-1, 1)"
   ]
  },
  {
   "cell_type": "markdown",
   "metadata": {},
   "source": [
    "### Initial Neural Net"
   ]
  },
  {
   "cell_type": "code",
   "execution_count": 39,
   "metadata": {},
   "outputs": [
    {
     "name": "stdout",
     "output_type": "stream",
     "text": [
      "Train on 5000 samples, validate on 5000 samples\n",
      "Epoch 1/20\n",
      "5000/5000 - 1s - loss: 0.5289 - accuracy: 0.7608 - val_loss: 0.2885 - val_accuracy: 0.8844\n",
      "Epoch 2/20\n",
      "5000/5000 - 0s - loss: 0.2202 - accuracy: 0.9180 - val_loss: 0.2215 - val_accuracy: 0.9170\n",
      "Epoch 3/20\n",
      "5000/5000 - 0s - loss: 0.1659 - accuracy: 0.9380 - val_loss: 0.2120 - val_accuracy: 0.9226\n",
      "Epoch 4/20\n",
      "5000/5000 - 0s - loss: 0.1421 - accuracy: 0.9486 - val_loss: 0.2036 - val_accuracy: 0.9266\n",
      "Epoch 5/20\n",
      "5000/5000 - 0s - loss: 0.1216 - accuracy: 0.9566 - val_loss: 0.2028 - val_accuracy: 0.9284\n",
      "Epoch 6/20\n",
      "5000/5000 - 0s - loss: 0.1060 - accuracy: 0.9644 - val_loss: 0.2043 - val_accuracy: 0.9316\n",
      "Epoch 7/20\n",
      "5000/5000 - 0s - loss: 0.0922 - accuracy: 0.9710 - val_loss: 0.2078 - val_accuracy: 0.9304\n",
      "Epoch 8/20\n",
      "5000/5000 - 0s - loss: 0.0814 - accuracy: 0.9744 - val_loss: 0.2140 - val_accuracy: 0.9306\n",
      "Epoch 9/20\n",
      "5000/5000 - 0s - loss: 0.0712 - accuracy: 0.9798 - val_loss: 0.2082 - val_accuracy: 0.9282\n",
      "Epoch 10/20\n",
      "5000/5000 - 0s - loss: 0.0609 - accuracy: 0.9838 - val_loss: 0.2135 - val_accuracy: 0.9318\n",
      "Epoch 11/20\n",
      "5000/5000 - 1s - loss: 0.0528 - accuracy: 0.9842 - val_loss: 0.2185 - val_accuracy: 0.9310\n",
      "Epoch 12/20\n",
      "5000/5000 - 0s - loss: 0.0451 - accuracy: 0.9878 - val_loss: 0.2298 - val_accuracy: 0.9284\n",
      "Epoch 13/20\n",
      "5000/5000 - 1s - loss: 0.0382 - accuracy: 0.9898 - val_loss: 0.2328 - val_accuracy: 0.9312\n",
      "Epoch 14/20\n",
      "5000/5000 - 0s - loss: 0.0325 - accuracy: 0.9920 - val_loss: 0.2426 - val_accuracy: 0.9312\n",
      "Epoch 15/20\n",
      "5000/5000 - 1s - loss: 0.0275 - accuracy: 0.9928 - val_loss: 0.2486 - val_accuracy: 0.9342\n",
      "Epoch 16/20\n",
      "5000/5000 - 0s - loss: 0.0227 - accuracy: 0.9944 - val_loss: 0.2652 - val_accuracy: 0.9308\n",
      "Epoch 17/20\n",
      "5000/5000 - 1s - loss: 0.0193 - accuracy: 0.9948 - val_loss: 0.2719 - val_accuracy: 0.9318\n",
      "Epoch 18/20\n",
      "5000/5000 - 1s - loss: 0.0167 - accuracy: 0.9954 - val_loss: 0.2883 - val_accuracy: 0.9312\n",
      "Epoch 19/20\n",
      "5000/5000 - 1s - loss: 0.0140 - accuracy: 0.9960 - val_loss: 0.2897 - val_accuracy: 0.9304\n",
      "Epoch 20/20\n",
      "5000/5000 - 1s - loss: 0.0110 - accuracy: 0.9962 - val_loss: 0.3009 - val_accuracy: 0.9330\n",
      "2000/1 - 0s - loss: 0.3679 - accuracy: 0.9380\n"
     ]
    },
    {
     "data": {
      "text/plain": [
       "[0.2697342637479305, 0.938]"
      ]
     },
     "execution_count": 39,
     "metadata": {},
     "output_type": "execute_result"
    }
   ],
   "source": [
    "model1 = Sequential()\n",
    "model1.add(Dense(50, activation='relu', input_shape=(X_train.shape[1], )))\n",
    "model1.add(Dense(10, activation='relu'))\n",
    "model1.add(Dense(10, activation='relu'))\n",
    "model1.add(Dense(1, activation='sigmoid'))\n",
    "\n",
    "model1.compile(optimizer='adam',\n",
    "               loss='binary_crossentropy',\n",
    "               metrics=['accuracy'])\n",
    "\n",
    "model1.fit(X_train, y_train, epochs=20, batch_size=50,\n",
    "           validation_data=(X_valid, y_valid), verbose = 2)\n",
    "\n",
    "model1.evaluate(X_test, y_test, verbose = 2)"
   ]
  },
  {
   "cell_type": "code",
   "execution_count": 40,
   "metadata": {},
   "outputs": [
    {
     "data": {
      "image/png": "[encoded data removed]",
      "text/plain": [
       "<Figure size 432x288 with 1 Axes>"
      ]
     },
     "metadata": {
      "needs_background": "light"
     },
     "output_type": "display_data"
    }
   ],
   "source": [
    "history = model1.history.history\n",
    "plt.title('Model Accuracy')\n",
    "plt.plot(history['accuracy'], label='Training')\n",
    "plt.plot(history['val_accuracy'], label='Validation')\n",
    "plt.xlabel('Epochs')\n",
    "plt.legend()\n",
    "plt.show()"
   ]
  },
  {
   "cell_type": "markdown",
   "metadata": {},
   "source": [
    "### Optimized Neural Net"
   ]
  },
  {
   "cell_type": "code",
   "execution_count": 41,
   "metadata": {},
   "outputs": [
    {
     "name": "stdout",
     "output_type": "stream",
     "text": [
      "Train on 5000 samples, validate on 5000 samples\n",
      "Epoch 1/100\n",
      "5000/5000 - 1s - loss: 2.1437 - accuracy: 0.5434 - val_loss: 1.1295 - val_accuracy: 0.7738\n",
      "Epoch 2/100\n",
      "5000/5000 - 1s - loss: 1.4455 - accuracy: 0.5792 - val_loss: 1.1137 - val_accuracy: 0.8096\n",
      "Epoch 3/100\n",
      "5000/5000 - 1s - loss: 1.2802 - accuracy: 0.6116 - val_loss: 1.1001 - val_accuracy: 0.8136\n",
      "Epoch 4/100\n",
      "5000/5000 - 1s - loss: 1.2067 - accuracy: 0.6272 - val_loss: 1.0765 - val_accuracy: 0.8288\n",
      "Epoch 5/100\n",
      "5000/5000 - 1s - loss: 1.1427 - accuracy: 0.6322 - val_loss: 1.0395 - val_accuracy: 0.8336\n",
      "Epoch 6/100\n",
      "5000/5000 - 1s - loss: 1.0933 - accuracy: 0.6656 - val_loss: 0.9850 - val_accuracy: 0.8414\n",
      "Epoch 7/100\n",
      "5000/5000 - 1s - loss: 1.0087 - accuracy: 0.7046 - val_loss: 0.9000 - val_accuracy: 0.8544\n",
      "Epoch 8/100\n",
      "5000/5000 - 1s - loss: 0.9774 - accuracy: 0.7296 - val_loss: 0.8416 - val_accuracy: 0.8570\n",
      "Epoch 9/100\n",
      "5000/5000 - 1s - loss: 0.8988 - accuracy: 0.7530 - val_loss: 0.7652 - val_accuracy: 0.8728\n",
      "Epoch 10/100\n",
      "5000/5000 - 1s - loss: 0.8370 - accuracy: 0.7660 - val_loss: 0.6879 - val_accuracy: 0.8828\n",
      "Epoch 11/100\n",
      "5000/5000 - 1s - loss: 0.7959 - accuracy: 0.7814 - val_loss: 0.6239 - val_accuracy: 0.8976\n",
      "Epoch 12/100\n",
      "5000/5000 - 1s - loss: 0.7397 - accuracy: 0.8016 - val_loss: 0.5688 - val_accuracy: 0.9006\n",
      "Epoch 13/100\n",
      "5000/5000 - 1s - loss: 0.6884 - accuracy: 0.8094 - val_loss: 0.5240 - val_accuracy: 0.9046\n",
      "Epoch 14/100\n",
      "5000/5000 - 1s - loss: 0.6509 - accuracy: 0.8242 - val_loss: 0.4865 - val_accuracy: 0.9130\n",
      "Epoch 15/100\n",
      "5000/5000 - 1s - loss: 0.5949 - accuracy: 0.8412 - val_loss: 0.4485 - val_accuracy: 0.9212\n",
      "Epoch 16/100\n",
      "5000/5000 - 1s - loss: 0.5707 - accuracy: 0.8518 - val_loss: 0.4258 - val_accuracy: 0.9210\n",
      "Epoch 17/100\n",
      "5000/5000 - 1s - loss: 0.5488 - accuracy: 0.8622 - val_loss: 0.4069 - val_accuracy: 0.9240\n",
      "Epoch 18/100\n",
      "5000/5000 - 1s - loss: 0.5295 - accuracy: 0.8668 - val_loss: 0.3939 - val_accuracy: 0.9258\n",
      "Epoch 19/100\n",
      "5000/5000 - 1s - loss: 0.5040 - accuracy: 0.8700 - val_loss: 0.3792 - val_accuracy: 0.9276\n",
      "Epoch 20/100\n",
      "5000/5000 - 1s - loss: 0.4814 - accuracy: 0.8712 - val_loss: 0.3589 - val_accuracy: 0.9298\n",
      "Epoch 21/100\n",
      "5000/5000 - 1s - loss: 0.4584 - accuracy: 0.8820 - val_loss: 0.3507 - val_accuracy: 0.9318\n",
      "Epoch 22/100\n",
      "5000/5000 - 1s - loss: 0.4437 - accuracy: 0.8912 - val_loss: 0.3424 - val_accuracy: 0.9332\n",
      "Epoch 23/100\n",
      "5000/5000 - 1s - loss: 0.4394 - accuracy: 0.8908 - val_loss: 0.3348 - val_accuracy: 0.9358\n",
      "Epoch 24/100\n",
      "5000/5000 - 1s - loss: 0.4305 - accuracy: 0.8964 - val_loss: 0.3267 - val_accuracy: 0.9368\n",
      "Epoch 25/100\n",
      "5000/5000 - 1s - loss: 0.4144 - accuracy: 0.9004 - val_loss: 0.3206 - val_accuracy: 0.9350\n",
      "Epoch 26/100\n",
      "5000/5000 - 1s - loss: 0.3975 - accuracy: 0.9036 - val_loss: 0.3133 - val_accuracy: 0.9350\n",
      "Epoch 27/100\n",
      "5000/5000 - 1s - loss: 0.3930 - accuracy: 0.9008 - val_loss: 0.3075 - val_accuracy: 0.9362\n",
      "Epoch 28/100\n",
      "5000/5000 - 1s - loss: 0.3968 - accuracy: 0.8998 - val_loss: 0.3042 - val_accuracy: 0.9376\n",
      "Epoch 29/100\n",
      "5000/5000 - 1s - loss: 0.3913 - accuracy: 0.9098 - val_loss: 0.3017 - val_accuracy: 0.9390\n",
      "Epoch 30/100\n",
      "5000/5000 - 1s - loss: 0.3787 - accuracy: 0.9046 - val_loss: 0.2947 - val_accuracy: 0.9390\n",
      "Epoch 31/100\n",
      "5000/5000 - 1s - loss: 0.3857 - accuracy: 0.9018 - val_loss: 0.2936 - val_accuracy: 0.9386\n",
      "Epoch 32/100\n",
      "5000/5000 - 1s - loss: 0.3711 - accuracy: 0.9102 - val_loss: 0.2893 - val_accuracy: 0.9406\n",
      "Epoch 33/100\n",
      "5000/5000 - 0s - loss: 0.3632 - accuracy: 0.9134 - val_loss: 0.2882 - val_accuracy: 0.9388\n",
      "Epoch 34/100\n",
      "5000/5000 - 1s - loss: 0.3682 - accuracy: 0.9142 - val_loss: 0.2902 - val_accuracy: 0.9396\n",
      "Epoch 35/100\n",
      "5000/5000 - 1s - loss: 0.3640 - accuracy: 0.9110 - val_loss: 0.2871 - val_accuracy: 0.9390\n",
      "Epoch 36/100\n",
      "5000/5000 - 1s - loss: 0.3493 - accuracy: 0.9196 - val_loss: 0.2851 - val_accuracy: 0.9380\n",
      "Epoch 37/100\n",
      "5000/5000 - 1s - loss: 0.3648 - accuracy: 0.9148 - val_loss: 0.2860 - val_accuracy: 0.9376\n",
      "Epoch 38/100\n",
      "5000/5000 - 1s - loss: 0.3572 - accuracy: 0.9118 - val_loss: 0.2781 - val_accuracy: 0.9408\n",
      "Epoch 39/100\n",
      "5000/5000 - 1s - loss: 0.3396 - accuracy: 0.9234 - val_loss: 0.2798 - val_accuracy: 0.9406\n",
      "Epoch 40/100\n",
      "5000/5000 - 1s - loss: 0.3363 - accuracy: 0.9222 - val_loss: 0.2722 - val_accuracy: 0.9404\n",
      "Epoch 41/100\n",
      "5000/5000 - 1s - loss: 0.3400 - accuracy: 0.9246 - val_loss: 0.2704 - val_accuracy: 0.9414\n",
      "Epoch 42/100\n",
      "5000/5000 - 1s - loss: 0.3366 - accuracy: 0.9216 - val_loss: 0.2725 - val_accuracy: 0.9396\n",
      "Epoch 43/100\n",
      "5000/5000 - 1s - loss: 0.3357 - accuracy: 0.9244 - val_loss: 0.2785 - val_accuracy: 0.9410\n",
      "Epoch 44/100\n",
      "5000/5000 - 1s - loss: 0.3304 - accuracy: 0.9210 - val_loss: 0.2770 - val_accuracy: 0.9392\n",
      "2000/1 - 0s - loss: 0.2893 - accuracy: 0.9410\n"
     ]
    },
    {
     "data": {
      "text/plain": [
       "[0.25987746596336364, 0.941]"
      ]
     },
     "execution_count": 41,
     "metadata": {},
     "output_type": "execute_result"
    }
   ],
   "source": [
    "model2 = Sequential()\n",
    "model2.add(Dense(50, activation='relu', input_shape=(X_train.shape[1], ), \n",
    "                 kernel_regularizer=keras.regularizers.l1(.001)))\n",
    "model2.add(Dropout(rate=.5))\n",
    "model2.add(Dense(10, activation='relu',\n",
    "                 kernel_regularizer=keras.regularizers.l1(.001)))\n",
    "model2.add(Dropout(rate=.5))\n",
    "model2.add(Dense(10, activation='relu',\n",
    "                 kernel_regularizer=keras.regularizers.l1(.001)))\n",
    "model2.add(Dropout(rate=.5))\n",
    "model2.add(Dense(1, activation='sigmoid'))\n",
    "\n",
    "model2.compile(optimizer='adam',\n",
    "               loss='binary_crossentropy',\n",
    "               metrics=['accuracy'])\n",
    "\n",
    "early_stopping = EarlyStopping(monitor='val_loss', patience=3)\n",
    "model2.fit(X_train, y_train, epochs=100, batch_size=50,\n",
    "          validation_data=(X_valid, y_valid),\n",
    "          callbacks=[early_stopping], verbose = 2)\n",
    "\n",
    "model2.evaluate(X_test, y_test, verbose = 2)"
   ]
  },
  {
   "cell_type": "code",
   "execution_count": 42,
   "metadata": {},
   "outputs": [
    {
     "data": {
      "image/png": "[encoded data removed]",
      "text/plain": [
       "<Figure size 432x288 with 1 Axes>"
      ]
     },
     "metadata": {
      "needs_background": "light"
     },
     "output_type": "display_data"
    }
   ],
   "source": [
    "history = model2.history.history\n",
    "plt.title('Model Accuracy')\n",
    "plt.plot(history['accuracy'], label='Training')\n",
    "plt.plot(history['val_accuracy'], label='Validation')\n",
    "plt.xlabel('Epochs')\n",
    "plt.legend()\n",
    "plt.show()"
   ]
  },
  {
   "cell_type": "markdown",
   "metadata": {},
   "source": [
    "### Preprocessing data for Convolutional Neural Net"
   ]
  },
  {
   "cell_type": "code",
   "execution_count": 30,
   "metadata": {},
   "outputs": [],
   "source": [
    "X_train = pca.inverse_transform(X_train)\n",
    "X_test = pca.inverse_transform(X_test)\n",
    "X_valid = pca.inverse_transform(X_valid)"
   ]
  },
  {
   "cell_type": "code",
   "execution_count": 31,
   "metadata": {},
   "outputs": [
    {
     "name": "stdout",
     "output_type": "stream",
     "text": [
      "X shapes:  (5000, 32, 32, 3) (5000, 32, 32, 3) (2000, 32, 32, 3)\n"
     ]
    }
   ],
   "source": [
    "X_train = X_train.reshape(-1, 32, 32, 3)\n",
    "X_valid = X_valid.reshape(-1, 32, 32, 3)\n",
    "X_test = X_test.reshape(-1, 32, 32, 3)\n",
    "print('X shapes: ', X_train.shape, X_valid.shape, X_test.shape)"
   ]
  },
  {
   "cell_type": "markdown",
   "metadata": {},
   "source": [
    "### Initial Convolutional Neural Net"
   ]
  },
  {
   "cell_type": "code",
   "execution_count": 45,
   "metadata": {},
   "outputs": [
    {
     "name": "stdout",
     "output_type": "stream",
     "text": [
      "Train on 5000 samples, validate on 5000 samples\n",
      "Epoch 1/20\n",
      "5000/5000 - 3s - loss: 0.2191 - accuracy: 0.9142 - val_loss: 0.1868 - val_accuracy: 0.9298\n",
      "Epoch 2/20\n",
      "5000/5000 - 3s - loss: 0.1620 - accuracy: 0.9422 - val_loss: 0.1784 - val_accuracy: 0.9342\n",
      "Epoch 3/20\n",
      "5000/5000 - 3s - loss: 0.1427 - accuracy: 0.9502 - val_loss: 0.1530 - val_accuracy: 0.9424\n",
      "Epoch 4/20\n",
      "5000/5000 - 3s - loss: 0.1263 - accuracy: 0.9534 - val_loss: 0.1652 - val_accuracy: 0.9404\n",
      "Epoch 5/20\n",
      "5000/5000 - 3s - loss: 0.1147 - accuracy: 0.9600 - val_loss: 0.1513 - val_accuracy: 0.9432\n",
      "Epoch 6/20\n",
      "5000/5000 - 3s - loss: 0.1091 - accuracy: 0.9612 - val_loss: 0.1441 - val_accuracy: 0.9484\n",
      "Epoch 7/20\n",
      "5000/5000 - 3s - loss: 0.1044 - accuracy: 0.9600 - val_loss: 0.1425 - val_accuracy: 0.9474\n",
      "Epoch 8/20\n",
      "5000/5000 - 3s - loss: 0.0981 - accuracy: 0.9646 - val_loss: 0.1517 - val_accuracy: 0.9428\n",
      "Epoch 9/20\n",
      "5000/5000 - 3s - loss: 0.0941 - accuracy: 0.9660 - val_loss: 0.1427 - val_accuracy: 0.9528\n",
      "Epoch 10/20\n",
      "5000/5000 - 3s - loss: 0.0884 - accuracy: 0.9684 - val_loss: 0.1471 - val_accuracy: 0.9534\n",
      "Epoch 11/20\n",
      "5000/5000 - 3s - loss: 0.0862 - accuracy: 0.9680 - val_loss: 0.1641 - val_accuracy: 0.9446\n",
      "Epoch 12/20\n",
      "5000/5000 - 3s - loss: 0.0895 - accuracy: 0.9670 - val_loss: 0.1707 - val_accuracy: 0.9456\n",
      "Epoch 13/20\n",
      "5000/5000 - 3s - loss: 0.0792 - accuracy: 0.9724 - val_loss: 0.1545 - val_accuracy: 0.9494\n",
      "Epoch 14/20\n",
      "5000/5000 - 3s - loss: 0.0780 - accuracy: 0.9716 - val_loss: 0.1893 - val_accuracy: 0.9416\n",
      "Epoch 15/20\n",
      "5000/5000 - 3s - loss: 0.0742 - accuracy: 0.9722 - val_loss: 0.1516 - val_accuracy: 0.9480\n",
      "Epoch 16/20\n",
      "5000/5000 - 3s - loss: 0.0718 - accuracy: 0.9730 - val_loss: 0.1447 - val_accuracy: 0.9498\n",
      "Epoch 17/20\n",
      "5000/5000 - 3s - loss: 0.0705 - accuracy: 0.9734 - val_loss: 0.1559 - val_accuracy: 0.9474\n",
      "Epoch 18/20\n",
      "5000/5000 - 3s - loss: 0.0656 - accuracy: 0.9736 - val_loss: 0.1515 - val_accuracy: 0.9510\n",
      "Epoch 19/20\n",
      "5000/5000 - 3s - loss: 0.0666 - accuracy: 0.9758 - val_loss: 0.1714 - val_accuracy: 0.9482\n",
      "Epoch 20/20\n",
      "5000/5000 - 3s - loss: 0.0620 - accuracy: 0.9756 - val_loss: 0.1638 - val_accuracy: 0.9490\n",
      "2000/1 - 0s - loss: 0.3408 - accuracy: 0.9560\n"
     ]
    },
    {
     "data": {
      "text/plain": [
       "[0.1358242617174983, 0.956]"
      ]
     },
     "execution_count": 45,
     "metadata": {},
     "output_type": "execute_result"
    }
   ],
   "source": [
    "model3 = Sequential()\n",
    "model3.add(Conv2D(16, kernel_size=(3, 3), activation='relu', \n",
    "                 padding='same', input_shape=(32,32,3)))\n",
    "\n",
    "model3.add(MaxPooling2D(pool_size=(2, 2), strides=2))\n",
    "\n",
    "model3.add(Flatten())\n",
    "model3.add(Dense(1, activation='sigmoid'))\n",
    "model3.compile(optimizer='adam',\n",
    "               loss='binary_crossentropy',\n",
    "               metrics=['accuracy'])\n",
    "model3.fit(X_train, y_train, epochs=20, batch_size=10, \n",
    "           validation_data=(X_valid, y_valid), verbose = 2)\n",
    "model3.evaluate(X_test, y_test, verbose = 2)"
   ]
  },
  {
   "cell_type": "code",
   "execution_count": 30,
   "metadata": {},
   "outputs": [
    {
     "data": {
      "image/png": "[encoded data removed]",
      "text/plain": [
       "<Figure size 432x288 with 1 Axes>"
      ]
     },
     "metadata": {
      "needs_background": "light"
     },
     "output_type": "display_data"
    }
   ],
   "source": [
    "history = model3.history.history\n",
    "plt.title('Model Accuracy')\n",
    "plt.plot(history['accuracy'], label='Training')\n",
    "plt.plot(history['val_accuracy'], label='Validation')\n",
    "plt.xlabel('Epochs')\n",
    "plt.legend()\n",
    "plt.show()"
   ]
  },
  {
   "cell_type": "markdown",
   "metadata": {},
   "source": [
    "### Optimized Convolutional Neural Net"
   ]
  },
  {
   "cell_type": "code",
   "execution_count": 34,
   "metadata": {},
   "outputs": [
    {
     "name": "stdout",
     "output_type": "stream",
     "text": [
      "Train on 5000 samples, validate on 5000 samples\n",
      "Epoch 1/200\n",
      "5000/5000 - 2s - loss: 0.2944 - accuracy: 0.8900 - val_loss: 0.4036 - val_accuracy: 0.9220\n",
      "Epoch 2/200\n",
      "5000/5000 - 1s - loss: 0.2112 - accuracy: 0.9306 - val_loss: 0.3595 - val_accuracy: 0.9338\n",
      "Epoch 3/200\n",
      "5000/5000 - 1s - loss: 0.1854 - accuracy: 0.9404 - val_loss: 0.3470 - val_accuracy: 0.9360\n",
      "Epoch 4/200\n",
      "5000/5000 - 1s - loss: 0.1746 - accuracy: 0.9444 - val_loss: 0.3248 - val_accuracy: 0.9410\n",
      "Epoch 5/200\n",
      "5000/5000 - 1s - loss: 0.1650 - accuracy: 0.9482 - val_loss: 0.3215 - val_accuracy: 0.9444\n",
      "Epoch 6/200\n",
      "5000/5000 - 1s - loss: 0.1527 - accuracy: 0.9498 - val_loss: 0.3142 - val_accuracy: 0.9422\n",
      "Epoch 7/200\n",
      "5000/5000 - 1s - loss: 0.1441 - accuracy: 0.9544 - val_loss: 0.2990 - val_accuracy: 0.9536\n",
      "Epoch 8/200\n",
      "5000/5000 - 1s - loss: 0.1437 - accuracy: 0.9542 - val_loss: 0.2972 - val_accuracy: 0.9496\n",
      "Epoch 9/200\n",
      "5000/5000 - 1s - loss: 0.1345 - accuracy: 0.9604 - val_loss: 0.2983 - val_accuracy: 0.9430\n",
      "Epoch 10/200\n",
      "5000/5000 - 1s - loss: 0.1296 - accuracy: 0.9624 - val_loss: 0.2805 - val_accuracy: 0.9514\n",
      "Epoch 11/200\n",
      "5000/5000 - 1s - loss: 0.1279 - accuracy: 0.9612 - val_loss: 0.2818 - val_accuracy: 0.9570\n",
      "Epoch 12/200\n",
      "5000/5000 - 1s - loss: 0.1233 - accuracy: 0.9632 - val_loss: 0.2623 - val_accuracy: 0.9530\n",
      "Epoch 13/200\n",
      "5000/5000 - 1s - loss: 0.1167 - accuracy: 0.9682 - val_loss: 0.2558 - val_accuracy: 0.9572\n",
      "Epoch 14/200\n",
      "5000/5000 - 1s - loss: 0.1189 - accuracy: 0.9628 - val_loss: 0.2656 - val_accuracy: 0.9472\n",
      "Epoch 15/200\n",
      "5000/5000 - 1s - loss: 0.1250 - accuracy: 0.9614 - val_loss: 0.2575 - val_accuracy: 0.9516\n",
      "Epoch 16/200\n",
      "5000/5000 - 1s - loss: 0.1099 - accuracy: 0.9674 - val_loss: 0.2528 - val_accuracy: 0.9536\n",
      "Epoch 17/200\n",
      "5000/5000 - 1s - loss: 0.1080 - accuracy: 0.9720 - val_loss: 0.2577 - val_accuracy: 0.9588\n",
      "Epoch 18/200\n",
      "5000/5000 - 1s - loss: 0.1114 - accuracy: 0.9686 - val_loss: 0.2579 - val_accuracy: 0.9616\n",
      "Epoch 19/200\n",
      "5000/5000 - 1s - loss: 0.0997 - accuracy: 0.9706 - val_loss: 0.2506 - val_accuracy: 0.9504\n",
      "Epoch 20/200\n",
      "5000/5000 - 1s - loss: 0.1034 - accuracy: 0.9702 - val_loss: 0.2393 - val_accuracy: 0.9516\n",
      "Epoch 21/200\n",
      "5000/5000 - 1s - loss: 0.1005 - accuracy: 0.9716 - val_loss: 0.2280 - val_accuracy: 0.9624\n",
      "Epoch 22/200\n",
      "5000/5000 - 1s - loss: 0.0971 - accuracy: 0.9726 - val_loss: 0.2268 - val_accuracy: 0.9592\n",
      "Epoch 23/200\n",
      "5000/5000 - 1s - loss: 0.1047 - accuracy: 0.9696 - val_loss: 0.2301 - val_accuracy: 0.9594\n",
      "Epoch 24/200\n",
      "5000/5000 - 1s - loss: 0.0928 - accuracy: 0.9746 - val_loss: 0.2225 - val_accuracy: 0.9598\n",
      "Epoch 25/200\n",
      "5000/5000 - 1s - loss: 0.0934 - accuracy: 0.9736 - val_loss: 0.2296 - val_accuracy: 0.9566\n",
      "Epoch 26/200\n",
      "5000/5000 - 1s - loss: 0.0922 - accuracy: 0.9740 - val_loss: 0.2254 - val_accuracy: 0.9552\n",
      "Epoch 27/200\n",
      "5000/5000 - 1s - loss: 0.0967 - accuracy: 0.9720 - val_loss: 0.2240 - val_accuracy: 0.9606\n",
      "2000/1 - 0s - loss: 0.2431 - accuracy: 0.9650\n"
     ]
    },
    {
     "data": {
      "text/plain": [
       "[0.22146977257728576, 0.965]"
      ]
     },
     "execution_count": 34,
     "metadata": {},
     "output_type": "execute_result"
    }
   ],
   "source": [
    "model4 = Sequential()\n",
    "model4.add(Conv2D(16, kernel_size=3, activation='relu', strides=1, \n",
    "                 padding='same', input_shape=(32,32,3),\n",
    "                 kernel_regularizer=keras.regularizers.l2(.001)))\n",
    "model4.add(Dropout(rate=.5))\n",
    "model4.add(MaxPooling2D(pool_size=4, strides=2))\n",
    "\n",
    "model4.add(Conv2D(32, kernel_size=3, activation='relu', \n",
    "                 padding='same',\n",
    "                 kernel_regularizer=keras.regularizers.l2(.001)))\n",
    "model4.add(Dropout(rate=.5))\n",
    "model4.add(MaxPooling2D(pool_size=4, strides=3))\n",
    "\n",
    "model4.add(Flatten())\n",
    "model4.add(Dense(1, activation='sigmoid'))\n",
    "\n",
    "model4.compile(optimizer='adam',\n",
    "               loss='binary_crossentropy',\n",
    "               metrics=['accuracy'])\n",
    "early_stopping = EarlyStopping(monitor='val_loss', patience=3)\n",
    "model4.fit(X_train, y_train, epochs=200, batch_size=50, \n",
    "           validation_data=(X_valid, y_valid), verbose = 2, callbacks=[early_stopping])\n",
    "model4.evaluate(X_test, y_test, verbose = 2)"
   ]
  },
  {
   "cell_type": "code",
   "execution_count": 35,
   "metadata": {},
   "outputs": [
    {
     "data": {
      "image/png": "[encoded data removed]",
      "text/plain": [
       "<Figure size 432x288 with 1 Axes>"
      ]
     },
     "metadata": {
      "needs_background": "light"
     },
     "output_type": "display_data"
    }
   ],
   "source": [
    "history = model4.history.history\n",
    "plt.title('Model Accuracy')\n",
    "plt.plot(history['accuracy'], label='Training')\n",
    "plt.plot(history['val_accuracy'], label='Validation')\n",
    "plt.xlabel('Epochs')\n",
    "plt.legend()\n",
    "plt.show()"
   ]
  }
 ],
 "metadata": {
  "kernelspec": {
   "display_name": "Python 3",
   "language": "python",
   "name": "python3"
  },
  "language_info": {
   "codemirror_mode": {
    "name": "ipython",
    "version": 3
   },
   "file_extension": ".py",
   "mimetype": "text/x-python",
   "name": "python",
   "nbconvert_exporter": "python",
   "pygments_lexer": "ipython3",
   "version": "3.6.9"
  }
 },
 "nbformat": 4,
 "nbformat_minor": 2
}
